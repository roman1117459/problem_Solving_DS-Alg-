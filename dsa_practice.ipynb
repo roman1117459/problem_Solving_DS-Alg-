{
  "cells": [
    {
      "cell_type": "markdown",
      "metadata": {
        "id": "JI0rAc-mJaHn"
      },
      "source": [
        "# Bubble Sort\n",
        "\n",
        "\n",
        "\n"
      ]
    },
    {
      "cell_type": "code",
      "execution_count": null,
      "metadata": {
        "colab": {
          "base_uri": "https://localhost:8080/"
        },
        "id": "GyPq1hkxJUbn",
        "outputId": "fb61950b-8ab5-4e53-8e7d-27971dc467e0"
      },
      "outputs": [
        {
          "output_type": "stream",
          "name": "stdout",
          "text": [
            "[1, 2, 3, 4, 8]\n"
          ]
        }
      ],
      "source": [
        "def bubbleSort(a):\n",
        "  for i in range(len(a)):\n",
        "    for j in range(len(a)-i-1):\n",
        "      if a[j] > a[j+1]:\n",
        "        a[j], a[j+1] = a[j+1], a[j]\n",
        "  return a\n",
        "\n",
        "l = [3,2,1,8,4]\n",
        "print(bubbleSort(l))"
      ]
    },
    {
      "cell_type": "code",
      "execution_count": null,
      "metadata": {
        "colab": {
          "base_uri": "https://localhost:8080/"
        },
        "id": "-hWdj6Z7TAEi",
        "outputId": "26eaefb6-2177-4c3d-82f4-9db7252d1388"
      },
      "outputs": [
        {
          "output_type": "stream",
          "name": "stdout",
          "text": [
            "5\n"
          ]
        }
      ],
      "source": [
        "a = [3,2,1,4,5]\n",
        "print(len(a))"
      ]
    },
    {
      "cell_type": "markdown",
      "metadata": {
        "id": "UznqeQauJlJm"
      },
      "source": [
        "# Selection Sort"
      ]
    },
    {
      "cell_type": "code",
      "execution_count": null,
      "metadata": {
        "colab": {
          "base_uri": "https://localhost:8080/"
        },
        "id": "WtjdHUNjJn1m",
        "outputId": "1e188f2d-d3de-4891-edd4-a10227a42afd"
      },
      "outputs": [
        {
          "output_type": "stream",
          "name": "stdout",
          "text": [
            "[1, 2, 3, 4, 5]\n"
          ]
        }
      ],
      "source": [
        "def selectionSort(s):\n",
        "  for i in range(len(s)):\n",
        "    cur_index = i\n",
        "    for j in range(i, len(s)):\n",
        "      if s[cur_index] > s[j]:\n",
        "        cur_index = j\n",
        "    s[i], s[cur_index] = s[cur_index], s[i]\n",
        "  return s\n",
        "\n",
        "s= [3,2,1,5,4]\n",
        "print(selectionSort(s))"
      ]
    },
    {
      "cell_type": "markdown",
      "metadata": {
        "id": "ly7q2-IR9-5J"
      },
      "source": [
        "# Quick Sort"
      ]
    },
    {
      "cell_type": "code",
      "execution_count": null,
      "metadata": {
        "colab": {
          "base_uri": "https://localhost:8080/"
        },
        "id": "2mNqc4TXL53e",
        "outputId": "7d83f6e5-ea53-487e-8af9-3d30c0b26094"
      },
      "outputs": [
        {
          "output_type": "stream",
          "name": "stdout",
          "text": [
            "[1, 2, 3, 4, 5, 6, 7]\n"
          ]
        }
      ],
      "source": [
        "def quickSort(a):\n",
        "  if len(a) <= 1:\n",
        "    return a\n",
        "  else:\n",
        "    pivot = a.pop()\n",
        "\n",
        "  greater = []\n",
        "  lower = []\n",
        "\n",
        "  for i in a:\n",
        "    if i > pivot:\n",
        "      greater.append(i)\n",
        "    else:\n",
        "      lower.append(i)\n",
        "  return quickSort(lower) + [pivot] + quickSort(greater)\n",
        "\n",
        "l =[3,4,5,6,1,7,2] \n",
        "print(quickSort(l))"
      ]
    },
    {
      "cell_type": "markdown",
      "metadata": {
        "id": "I3-0TRDjBzMS"
      },
      "source": [
        "# Linear search"
      ]
    },
    {
      "cell_type": "code",
      "execution_count": null,
      "metadata": {
        "colab": {
          "base_uri": "https://localhost:8080/"
        },
        "id": "dU19FIbbBrDS",
        "outputId": "6da73707-5ca6-45ee-c13e-333974ea18ff"
      },
      "outputs": [
        {
          "output_type": "stream",
          "name": "stdout",
          "text": [
            "('found at ', 5)\n"
          ]
        }
      ],
      "source": [
        "def linearSearch(num, key):\n",
        "  for i in range(len(num)):\n",
        "    if key == num[i]:\n",
        "      return \"found at \",i\n",
        "      # return True\n",
        "  return False\n",
        "\n",
        "\n",
        "num = [2,3,6,2,4,9,7,3,3,6,1,0]\n",
        "key = 9\n",
        "\n",
        "print(linearSearch(num,key))\n",
        "# if linearSearch(num, key):\n",
        "#   print(key, \"is found in the list and the position is\",i)\n",
        "# else:\n",
        "#   print(key,\"is not found in the list.\")"
      ]
    },
    {
      "cell_type": "markdown",
      "metadata": {
        "id": "h2k5qAPmTdHB"
      },
      "source": [
        "\n",
        "\n",
        "```\n",
        "# This is formatted as code\n",
        "```\n",
        "\n",
        "# Binary Search"
      ]
    },
    {
      "cell_type": "code",
      "execution_count": null,
      "metadata": {
        "id": "VmMl6XuDNqg7",
        "colab": {
          "base_uri": "https://localhost:8080/"
        },
        "outputId": "ad7e39f1-8aba-4a70-90c8-75999a06b9cc"
      },
      "outputs": [
        {
          "output_type": "stream",
          "name": "stdout",
          "text": [
            "False\n",
            "True\n"
          ]
        }
      ],
      "source": [
        "def binary_search(a_list, item):\n",
        "  first = 0\n",
        "  last = len(a_list) - 1\n",
        "  found = False\n",
        "  while first <= last and not found:\n",
        "    midpoint = (first + last) // 2\n",
        "    if a_list[midpoint] == item:\n",
        "      found = True\n",
        "    else:\n",
        "      if item < a_list[midpoint]:\n",
        "        last = midpoint - 1\n",
        "      else:\n",
        "        first = midpoint + 1\n",
        "  return found\n",
        "  \n",
        "test_list = [0, 1, 2, 8, 13, 17, 19, 32, 42,]\n",
        "print(binary_search(test_list, 3))\n",
        "print(binary_search(test_list, 13))\n"
      ]
    },
    {
      "cell_type": "markdown",
      "source": [
        "# Merge Sort"
      ],
      "metadata": {
        "id": "LHhttbzC4kgq"
      }
    },
    {
      "cell_type": "code",
      "execution_count": null,
      "metadata": {
        "id": "5JopBvSxUMPB",
        "colab": {
          "base_uri": "https://localhost:8080/"
        },
        "outputId": "6ce0a2cb-6aa9-4ee0-d010-67ceb95af891"
      },
      "outputs": [
        {
          "output_type": "stream",
          "name": "stdout",
          "text": [
            "[1, 2, 3, 5, 5, 8, 8]\n"
          ]
        }
      ],
      "source": [
        "def mergeSort(array):\n",
        "  if len(array) < 2:\n",
        "    return array\n",
        "  \n",
        "  mid = len(array) // 2\n",
        "  left = mergeSort(array[:mid])\n",
        "  right = mergeSort(array[mid:])\n",
        "\n",
        "  return merge(left, right)\n",
        "\n",
        "def merge(left, right):\n",
        "  result = []\n",
        "  i, j = 0, 0\n",
        "  while i < len(left) or j < len(right):\n",
        "    if left[i] <= right[j]:\n",
        "      result.append(left[i])\n",
        "      i += 1\n",
        "\n",
        "    else:\n",
        "      result.append(right[j])\n",
        "      j += 1\n",
        "\n",
        "    if i == len(left) or j == len(right):\n",
        "      result.extend(left[i:] or right[j:])\n",
        "      break\n",
        "  return result\n",
        "\n",
        "a = [3,2,5,8,1,5,8]\n",
        "print(mergeSort(a))"
      ]
    },
    {
      "cell_type": "markdown",
      "source": [
        "# Recursion"
      ],
      "metadata": {
        "id": "tH0oPdLyF-vr"
      }
    },
    {
      "cell_type": "code",
      "source": [
        "def fact(n):\n",
        "  if n == 1:\n",
        "    return 1\n",
        "  else:\n",
        "    return n * fact(n-1)\n",
        "\n",
        "print(fact(5))"
      ],
      "metadata": {
        "id": "MVCjzfigFB0b",
        "colab": {
          "base_uri": "https://localhost:8080/"
        },
        "outputId": "8d8fa73c-bcb8-4a04-86eb-624feb978947"
      },
      "execution_count": null,
      "outputs": [
        {
          "output_type": "stream",
          "name": "stdout",
          "text": [
            "120\n"
          ]
        }
      ]
    },
    {
      "cell_type": "markdown",
      "source": [
        "# **Data Structure**"
      ],
      "metadata": {
        "id": "6i-htdcmHjqD"
      }
    },
    {
      "cell_type": "markdown",
      "source": [
        "## STACK"
      ],
      "metadata": {
        "id": "RpXRka40Hmii"
      }
    },
    {
      "cell_type": "code",
      "source": [
        "def push(num,n):\n",
        "  num.append(n)\n",
        "  return num\n",
        "\n",
        "def pop(num):\n",
        "  if isEmpty(num):\n",
        "    print(\"Stack is empty!\")\n",
        "    return False\n",
        "  else:\n",
        "    num.pop()\n",
        "    return num\n",
        "def isEmpty(num):\n",
        "  if not num:\n",
        "    return True\n",
        "  else:\n",
        "    return False\n",
        "\n",
        "num = []\n",
        "push(num, 2)\n",
        "push(num, 3)\n",
        "push(num, 4)\n",
        "pop(num)\n",
        "pop(num)\n",
        "pop(num)\n",
        "print(num)\n"
      ],
      "metadata": {
        "id": "KznHfZtNgVK3",
        "colab": {
          "base_uri": "https://localhost:8080/"
        },
        "outputId": "59da42dc-7441-465e-9b30-df2d56718918"
      },
      "execution_count": null,
      "outputs": [
        {
          "output_type": "stream",
          "name": "stdout",
          "text": [
            "[]\n"
          ]
        }
      ]
    },
    {
      "cell_type": "code",
      "source": [
        ""
      ],
      "metadata": {
        "id": "_U-YmMVBIWiN"
      },
      "execution_count": null,
      "outputs": []
    }
  ],
  "metadata": {
    "accelerator": "GPU",
    "colab": {
      "collapsed_sections": [],
      "name": "dsa_practice.ipynb",
      "provenance": []
    },
    "kernelspec": {
      "display_name": "Python 3",
      "name": "python3"
    },
    "language_info": {
      "name": "python"
    }
  },
  "nbformat": 4,
  "nbformat_minor": 0
}