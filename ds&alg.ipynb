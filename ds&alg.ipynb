{
  "nbformat": 4,
  "nbformat_minor": 0,
  "metadata": {
    "colab": {
      "name": "ds&alg.ipynb",
      "provenance": [],
      "collapsed_sections": []
    },
    "kernelspec": {
      "name": "python3",
      "display_name": "Python 3"
    },
    "language_info": {
      "name": "python"
    },
    "accelerator": "GPU"
  },
  "cells": [
    {
      "cell_type": "markdown",
      "metadata": {
        "id": "vnL_myp-t_DZ"
      },
      "source": [
        "\n",
        "\n",
        "\n",
        "**# This is Bubble sort**\n",
        "\n",
        "\n"
      ]
    },
    {
      "cell_type": "code",
      "metadata": {
        "id": "XsPhZKhsLOVz"
      },
      "source": [
        "import unittest\n",
        "\n",
        "def bubblesort(alist):\n",
        "    for i in range(len(alist)-1):\n",
        "        for j in range(len(alist)-1):\n",
        "            if alist[j] > alist[j+1]:\n",
        "                alist[j], alist[j+1] = alist[j+1], alist[j]\n",
        "    return alist\n",
        "\n",
        "\n",
        "class unit_test(unittest.TestCase):\n",
        "    def test(self):\n",
        "        self.assertEqual([1, 2, 3, 4, 5, 6], bubblesort([4, 6, 1, 3, 5, 2]))\n",
        "        self.assertEqual([1, 2, 3, 4, 5, 6], bubblesort([6, 4, 3, 1, 2, 5]))\n",
        "        self.assertEqual([1, 2, 3, 4, 5, 6], bubblesort([6, 5, 4, 3, 2, 1]))\n",
        "        "
      ],
      "execution_count": null,
      "outputs": []
    },
    {
      "cell_type": "code",
      "metadata": {
        "colab": {
          "base_uri": "https://localhost:8080/"
        },
        "id": "vZcaHDKoW5lO",
        "outputId": "48fb686e-3d8e-4064-8bb7-8bd5e2b342b6"
      },
      "source": [
        "def bubblesort(alist):\n",
        "    for i in range(len(alist)-1):\n",
        "        for j in range(len(alist)-1):\n",
        "            if alist[j] > alist[j+1]:\n",
        "                alist[j], alist[j+1] = alist[j+1], alist[j]\n",
        "    return alist\n",
        "\n",
        "# alist = [1,4,6,3,5]\n",
        "# print(bubblesort(alist))\n",
        "# alist = []\n",
        "\n",
        "alist = [int(item) for item in input(\"Enter the list items : \").split()]\n",
        "print(bubblesort(alist))"
      ],
      "execution_count": null,
      "outputs": [
        {
          "output_type": "stream",
          "name": "stdout",
          "text": [
            "Enter the list items : 5 2 3 4 1\n",
            "[1, 2, 3, 4, 5]\n"
          ]
        }
      ]
    },
    {
      "cell_type": "code",
      "metadata": {
        "id": "qyCHKaCWXjmE",
        "colab": {
          "base_uri": "https://localhost:8080/"
        },
        "outputId": "6f78d996-84fb-4880-e243-94ffd0f6e88e"
      },
      "source": [
        "alist =  [1,2,4,6,5]\n",
        "print(len(alist))"
      ],
      "execution_count": null,
      "outputs": [
        {
          "output_type": "stream",
          "name": "stdout",
          "text": [
            "5\n"
          ]
        }
      ]
    },
    {
      "cell_type": "markdown",
      "metadata": {
        "id": "8vyI4vWLuKEZ"
      },
      "source": [
        "**This is Selection Sort**"
      ]
    },
    {
      "cell_type": "code",
      "metadata": {
        "id": "rcKZlBHIDWZx"
      },
      "source": [
        "import unittest\n",
        "\n",
        "def selectionSort(input):\n",
        "    for i in range(len(input) - 1):\n",
        "        # assume the min is the first element\n",
        "        idx_min = i\n",
        "        j = i + 1\n",
        "\n",
        "        # test against elements after i to find the smallest\n",
        "        while j < len(input):\n",
        "            if(input[j] < input[idx_min]):\n",
        "                # found new minimum; remember its index\n",
        "                idx_min = j\n",
        "            j = j + 1\n",
        "\n",
        "        if idx_min is not i:\n",
        "            # swap\n",
        "            input[idx_min], input[i] = input[i], input[idx_min]\n",
        "\n",
        "    return input\n",
        "\n",
        "class unit_test(unittest.TestCase):\n",
        "    def test(self):\n",
        "        self.assertEqual([1, 2, 3, 4, 5, 6], selectionSort([4, 6, 1, 3, 5, 2]))\n",
        "        self.assertEqual([1, 2, 3, 4, 5, 6], selectionSort([6, 4, 3, 1, 2, 5]))\n",
        "        self.assertEqual([1, 2, 3, 4, 5, 6], selectionSort([6, 5, 4, 3, 2, 1]))\n"
      ],
      "execution_count": null,
      "outputs": []
    },
    {
      "cell_type": "code",
      "metadata": {
        "colab": {
          "base_uri": "https://localhost:8080/"
        },
        "id": "SIe3JXgy_cZv",
        "outputId": "ce9a4a6a-448d-42bf-fdbf-c05af028df2e"
      },
      "source": [
        "def selectionSort(input):\n",
        "    for i in range(len(input) - 1):\n",
        "        # assume the min is the first element\n",
        "        idx_min = i\n",
        "        j = i + 1\n",
        "\n",
        "        # test against elements after i to find the smallest\n",
        "        while j < len(input):\n",
        "            if(input[j] < input[idx_min]):\n",
        "                # found new minimum; remember its index\n",
        "                idx_min = j\n",
        "            j = j + 1\n",
        "\n",
        "        if idx_min is not i:\n",
        "            # swap\n",
        "            input[idx_min], input[i] = input[i], input[idx_min]\n",
        "\n",
        "    return input\n",
        "\n",
        "input = [int(item) for item in input(\"Enter the list items : \").split()]\n",
        "print(selectionSort(input))"
      ],
      "execution_count": null,
      "outputs": [
        {
          "output_type": "stream",
          "name": "stdout",
          "text": [
            "Enter the list items : 3 4 5 2 1\n",
            "[1, 2, 3, 4, 5]\n"
          ]
        }
      ]
    },
    {
      "cell_type": "markdown",
      "metadata": {
        "id": "uBhvU--WuO8H"
      },
      "source": [
        "**This is Insertion Sort**"
      ]
    },
    {
      "cell_type": "code",
      "metadata": {
        "id": "eA6k7Uce_nhd"
      },
      "source": [
        "import unittest\n",
        "\n",
        "def insertion_sort(input):\n",
        "\n",
        "    for idx, valueToInsert in enumerate(input):\n",
        "        # select the hole position where number is to be inserted\n",
        "        holePosition = idx\n",
        "\n",
        "        # check if previous no. is larger than value to be inserted\n",
        "        while holePosition > 0 and input[holePosition-1] > valueToInsert:\n",
        "            input[holePosition - 1], input[holePosition] = input[holePosition], input[holePosition-1]\n",
        "            holePosition = holePosition - 1\n",
        "\n",
        "    return input\n",
        "\n",
        "class unit_test(unittest.TestCase):\n",
        "    def test(self):\n",
        "        self.assertEqual([1, 2, 3, 4, 5, 6], insertion_sort([4, 6, 1, 3, 5, 2]))\n",
        "        self.assertEqual([1, 2, 3, 4, 5, 6], insertion_sort([6, 4, 3, 1, 2, 5]))\n",
        "        self.assertEqual([1, 2, 3, 4, 5, 6], insertion_sort([6, 5, 4, 3, 2, 1]))"
      ],
      "execution_count": null,
      "outputs": []
    },
    {
      "cell_type": "code",
      "metadata": {
        "colab": {
          "base_uri": "https://localhost:8080/"
        },
        "id": "axBWXMzGsZNI",
        "outputId": "13721196-1d05-4668-e89d-533270de6327"
      },
      "source": [
        "def insertion_sort(input):\n",
        "\n",
        "    for idx, valueToInsert in enumerate(input):\n",
        "        # select the hole position where number is to be inserted\n",
        "        holePosition = idx\n",
        "\n",
        "        # check if previous no. is larger than value to be inserted\n",
        "        while holePosition > 0 and input[holePosition-1] > valueToInsert:\n",
        "            input[holePosition - 1], input[holePosition] = input[holePosition], input[holePosition-1]\n",
        "            holePosition = holePosition - 1\n",
        "\n",
        "    return input\n",
        "\n",
        "input = [int(item) for item in input(\"Enter the list items : \").split()]\n",
        "print(insertion_sort(input))\n"
      ],
      "execution_count": null,
      "outputs": [
        {
          "output_type": "stream",
          "name": "stdout",
          "text": [
            "Enter the list items : 1 3 2 5 4\n",
            "[1, 2, 3, 4, 5]\n"
          ]
        }
      ]
    },
    {
      "cell_type": "code",
      "metadata": {
        "colab": {
          "base_uri": "https://localhost:8080/"
        },
        "id": "OB6PaY8VuYJI",
        "outputId": "46d8a329-0911-46db-bdb8-f288968ab820"
      },
      "source": [
        "alist = ['a1', 'a2', 'a3']\n",
        "blist = ['b1', 'b2', 'b3']\n",
        "\n",
        "for i, (a, b) in enumerate(zip(alist, blist)):\n",
        "    print(i, a, b)"
      ],
      "execution_count": null,
      "outputs": [
        {
          "output_type": "stream",
          "name": "stdout",
          "text": [
            "0 a1 b1\n",
            "1 a2 b2\n",
            "2 a3 b3\n"
          ]
        }
      ]
    },
    {
      "cell_type": "markdown",
      "metadata": {
        "id": "dfaBjFNKx8wa"
      },
      "source": [
        "**Merge Sort**"
      ]
    },
    {
      "cell_type": "code",
      "metadata": {
        "colab": {
          "base_uri": "https://localhost:8080/"
        },
        "id": "gndLkr0HwvIx",
        "outputId": "c56e432f-f772-4ba9-d2cb-3299d4cb76c0"
      },
      "source": [
        "__author__ = 'Minsuk Heo'\n",
        "\n",
        "def mergeSort(alist):\n",
        "    print(\"Splitting \",alist)\n",
        "    if len(alist)>1:\n",
        "        mid = len(alist)//2\n",
        "        lefthalf = alist[:mid]\n",
        "        righthalf = alist[mid:]\n",
        "\n",
        "        mergeSort(lefthalf)\n",
        "        mergeSort(righthalf)\n",
        "\n",
        "        i=0\n",
        "        j=0\n",
        "        k=0\n",
        "        while i < len(lefthalf) and j < len(righthalf):\n",
        "            if lefthalf[i] < righthalf[j]:\n",
        "                alist[k]=lefthalf[i]\n",
        "                i=i+1\n",
        "            else:\n",
        "                alist[k]=righthalf[j]\n",
        "                j=j+1\n",
        "            k=k+1\n",
        "\n",
        "        while i < len(lefthalf):\n",
        "            alist[k]=lefthalf[i]\n",
        "            i=i+1\n",
        "            k=k+1\n",
        "\n",
        "        while j < len(righthalf):\n",
        "            alist[k]=righthalf[j]\n",
        "            j=j+1\n",
        "            k=k+1\n",
        "    print(\"Merging \",alist)\n",
        "\n",
        "alist = [6,2,4,1,3,7,5,8]\n",
        "mergeSort(alist)\n",
        "print(alist)"
      ],
      "execution_count": null,
      "outputs": [
        {
          "output_type": "stream",
          "name": "stdout",
          "text": [
            "Splitting  [6, 2, 4, 1, 3, 7, 5, 8]\n",
            "Splitting  [6, 2, 4, 1]\n",
            "Splitting  [6, 2]\n",
            "Splitting  [6]\n",
            "Merging  [6]\n",
            "Splitting  [2]\n",
            "Merging  [2]\n",
            "Merging  [2, 6]\n",
            "Splitting  [4, 1]\n",
            "Splitting  [4]\n",
            "Merging  [4]\n",
            "Splitting  [1]\n",
            "Merging  [1]\n",
            "Merging  [1, 4]\n",
            "Merging  [1, 2, 4, 6]\n",
            "Splitting  [3, 7, 5, 8]\n",
            "Splitting  [3, 7]\n",
            "Splitting  [3]\n",
            "Merging  [3]\n",
            "Splitting  [7]\n",
            "Merging  [7]\n",
            "Merging  [3, 7]\n",
            "Splitting  [5, 8]\n",
            "Splitting  [5]\n",
            "Merging  [5]\n",
            "Splitting  [8]\n",
            "Merging  [8]\n",
            "Merging  [5, 8]\n",
            "Merging  [3, 5, 7, 8]\n",
            "Merging  [1, 2, 3, 4, 5, 6, 7, 8]\n",
            "[1, 2, 3, 4, 5, 6, 7, 8]\n"
          ]
        }
      ]
    },
    {
      "cell_type": "code",
      "metadata": {
        "colab": {
          "base_uri": "https://localhost:8080/"
        },
        "id": "K6Q-yQ8d6U3W",
        "outputId": "a634f796-54fa-404c-ac55-0ccb3adee950"
      },
      "source": [
        "# Python program for implementation of MergeSort\n",
        "\n",
        "# Merges two subarrays of arr[].\n",
        "# First subarray is arr[l..m]\n",
        "# Second subarray is arr[m+1..r]\n",
        "\n",
        "\n",
        "def merge(arr, l, m, r):\n",
        "\tn1 = m - l + 1\n",
        "\tn2 = r - m\n",
        "\n",
        "\t# create temp arrays\n",
        "\tL = [0] * (n1)\n",
        "\tR = [0] * (n2)\n",
        "\n",
        "\t# Copy data to temp arrays L[] and R[]\n",
        "\tfor i in range(0, n1):\n",
        "\t\tL[i] = arr[l + i]\n",
        "\n",
        "\tfor j in range(0, n2):\n",
        "\t\tR[j] = arr[m + 1 + j]\n",
        "\n",
        "\t# Merge the temp arrays back into arr[l..r]\n",
        "\ti = 0\t # Initial index of first subarray\n",
        "\tj = 0\t # Initial index of second subarray\n",
        "\tk = l\t # Initial index of merged subarray\n",
        "\n",
        "\twhile i < n1 and j < n2:\n",
        "\t\tif L[i] <= R[j]:\n",
        "\t\t\tarr[k] = L[i]\n",
        "\t\t\ti += 1\n",
        "\t\telse:\n",
        "\t\t\tarr[k] = R[j]\n",
        "\t\t\tj += 1\n",
        "\t\tk += 1\n",
        "\n",
        "\t# Copy the remaining elements of L[], if there\n",
        "\t# are any\n",
        "\twhile i < n1:\n",
        "\t\tarr[k] = L[i]\n",
        "\t\ti += 1\n",
        "\t\tk += 1\n",
        "\n",
        "\t# Copy the remaining elements of R[], if there\n",
        "\t# are any\n",
        "\twhile j < n2:\n",
        "\t\tarr[k] = R[j]\n",
        "\t\tj += 1\n",
        "\t\tk += 1\n",
        "\n",
        "# l is for left index and r is right index of the\n",
        "# sub-array of arr to be sorted\n",
        "\n",
        "\n",
        "def mergeSort(arr, l, r):\n",
        "\tif l < r:\n",
        "\n",
        "\t\t# Same as (l+r)//2, but avoids overflow for\n",
        "\t\t# large l and h\n",
        "\t\tm = l+(r-l)//2\n",
        "\n",
        "\t\t# Sort first and second halves\n",
        "\t\tmergeSort(arr, l, m)\n",
        "\t\tmergeSort(arr, m+1, r)\n",
        "\t\tmerge(arr, l, m, r)\n",
        "\n",
        "\n",
        "# Driver code to test above\n",
        "arr = [12, 11, 13, 5, 6, 7]\n",
        "n = len(arr)\n",
        "print(\"Given array is\")\n",
        "for i in range(n):\n",
        "\tprint(\"%d\" % arr[i]),\n",
        "\n",
        "mergeSort(arr, 0, n-1)\n",
        "print(\"\\n\\nSorted array is\")\n",
        "for i in range(n):\n",
        "\tprint(\"%d\" % arr[i]),\n",
        "\n",
        "# This code is contributed by Mohit Kumra\n"
      ],
      "execution_count": null,
      "outputs": [
        {
          "output_type": "stream",
          "name": "stdout",
          "text": [
            "Given array is\n",
            "12\n",
            "11\n",
            "13\n",
            "5\n",
            "6\n",
            "7\n",
            "\n",
            "\n",
            "Sorted array is\n",
            "5\n",
            "6\n",
            "7\n",
            "11\n",
            "12\n",
            "13\n"
          ]
        }
      ]
    },
    {
      "cell_type": "code",
      "metadata": {
        "id": "ikUDI1YU6sOa",
        "colab": {
          "base_uri": "https://localhost:8080/"
        },
        "outputId": "52c320e6-3658-41a1-9a3d-247c4286228f"
      },
      "source": [
        "def merge_sort(a): \n",
        "\tif len(a) < 2:\n",
        "\t\treturn a\n",
        "\tmid = len(a) // 2\n",
        "\tleft = merge_sort(a[:mid])\n",
        "\tright = merge_sort(a[mid:])\n",
        "\t\n",
        "\treturn merge(left, right)\n",
        "\n",
        "\n",
        "def merge(left,right):\n",
        "\tresult = []\n",
        "\ti , j = 0, 0\n",
        "\twhile i < len(left) or j < len(right):\n",
        "\t\tif left[i] <= right[j]:\n",
        "\t\t\tresult.append(left[i])\n",
        "\t\t\ti += 1\n",
        "\t\telse :\n",
        "\t\t\tresult.append(right[j])\n",
        "\t\t\tj += 1\n",
        "\t\tif i == len(left) or j == len(right):\n",
        "\t\t\tresult.extend(left[i:] or right[j:])\n",
        "\t\t\tbreak\n",
        "\treturn result\n",
        "\n",
        "# a = [3 ,2, 1]\n",
        "# b = [7,4,6]\n",
        "# print(merge(a,b))\n",
        "\n",
        "a = [3,2]\n",
        "print(merge_sort(a))\n"
      ],
      "execution_count": null,
      "outputs": [
        {
          "output_type": "stream",
          "name": "stdout",
          "text": [
            "[2, 3]\n"
          ]
        }
      ]
    },
    {
      "cell_type": "markdown",
      "metadata": {
        "id": "LcTkmWUW5CtE"
      },
      "source": [
        "**Quick Sort**"
      ]
    },
    {
      "cell_type": "code",
      "metadata": {
        "id": "vPqZuDCyHb7l"
      },
      "source": [
        "import unittest\n",
        "\n",
        "def quick_sort(list, start, end):\n",
        "    # repeat until sublist has one item\n",
        "    # because the algorithm is using in-place space, we can not use len(list) instead we use start, end for sublist\n",
        "    if start < end:\n",
        "        # get pivot using partition method\n",
        "        pivot = partition(list, start, end)\n",
        "        # recurse quick sort left side from pivot\n",
        "        quick_sort(list, start, pivot-1)\n",
        "        # recurse quick sort right side from pivot\n",
        "        quick_sort(list,pivot+1, end)\n",
        "    return list\n",
        "\n",
        "def partition(list, start, end):\n",
        "    # use end item as initial pivot\n",
        "    pivot = end\n",
        "    # use start as initial wall index\n",
        "    wall = start\n",
        "    left = start\n",
        "    # repeat until left item hit the end of list\n",
        "    while left < pivot:\n",
        "        # if left item is smaller than pivot, swap left item with wall and move wall to right\n",
        "        # this will ensure items smaller than pivot stay left side from the wall and\n",
        "        # the items greater than pivot stay right side from the wall\n",
        "        if list[left] < list[pivot]:\n",
        "            list[wall], list[left] = list[left], list[wall]\n",
        "            wall = wall + 1\n",
        "        left = left + 1\n",
        "    # when left hit the end of list, swap pivot with wall\n",
        "    list[wall], list[pivot] = list[pivot], list[wall]\n",
        "    # now left side of wall are the items smaller than wall\n",
        "    # now right side of pivot are the items greater than wall\n",
        "    # wall is the new pivot\n",
        "    pivot = wall\n",
        "    return pivot\n",
        "\n",
        "class unit_test(unittest.TestCase):\n",
        "    def test(self):\n",
        "        list = [8, 13, 2, 6, 1, 4]\n",
        "        self.assertEqual([1, 2, 4, 6, 8, 13], quick_sort(list,0,len(list)-1))\n",
        "        list = [8, 1, 2, 5, 10, 14, 7, 21]\n",
        "        self.assertEqual([1, 2, 5, 7, 8, 10, 14, 21], quick_sort(list, 0, len(list) - 1))"
      ],
      "execution_count": null,
      "outputs": []
    },
    {
      "cell_type": "code",
      "metadata": {
        "id": "LlzMrrba5FWd",
        "colab": {
          "base_uri": "https://localhost:8080/"
        },
        "outputId": "2e33cbd5-9d0c-4570-d643-92a12a6df188"
      },
      "source": [
        "def quickSort(a):\n",
        "\tif len(a) <= 1:\n",
        "\t\treturn a\n",
        "\telse:\n",
        "\t\tpivot = a.pop()\n",
        "\n",
        "\tgreater = []\n",
        "\tlower = []\n",
        "\n",
        "\tfor i in a:\n",
        "\t\tif i > pivot:\n",
        "\t\t\tgreater.append(i)\n",
        "\t\telse:\n",
        "\t\t\tlower.append(i)\n",
        "\treturn quickSort(lower) + [pivot] + quickSort(greater)\n",
        "\n",
        "l= [3,4,5,6,2,2,1,7]\n",
        "print(quickSort(l))"
      ],
      "execution_count": null,
      "outputs": [
        {
          "output_type": "stream",
          "name": "stdout",
          "text": [
            "[1, 2, 2, 3, 4, 5, 6, 7]\n"
          ]
        }
      ]
    },
    {
      "cell_type": "markdown",
      "metadata": {
        "id": "Ep-D6Fviv5zx"
      },
      "source": [
        "**Queue**"
      ]
    },
    {
      "cell_type": "code",
      "metadata": {
        "id": "NgpIev9yisTE"
      },
      "source": [
        "import unittest\n",
        "\n",
        "__author__ = 'Minsuk Heo'\n",
        "\n",
        "\"\"\"\n",
        "Queue\n",
        "\"\"\"\n",
        "\n",
        "\n",
        "class Queue:\n",
        "\n",
        "    def __init__(self):\n",
        "        self.items = []\n",
        "\n",
        "    def enqueue(self, item):\n",
        "        self.items.insert(0, item)\n",
        "\n",
        "    def dequeue(self):\n",
        "        self.items.pop()\n",
        "\n",
        "    def print_queue(self):\n",
        "        print(self.items)\n",
        "\n",
        "    def is_empty(self):\n",
        "        return self.items == []\n",
        "\n",
        "    def size(self):\n",
        "        return len(self.items)\n",
        "\n",
        "class QueueTest(unittest.TestCase):\n",
        "    def test(self):\n",
        "        queue = Queue()\n",
        "        self.assertTrue(queue.is_empty())\n",
        "        queue.enqueue(1)\n",
        "        self.assertEqual(queue.size(),1)\n",
        "        queue.enqueue(2)\n",
        "        self.assertEqual(queue.size(),2)\n",
        "        queue.print_queue()\n",
        "        queue.dequeue()\n",
        "        self.assertEqual(queue.size(),1)\n",
        "        queue.print_queue()\n",
        "        self.assertFalse(queue.is_empty())"
      ],
      "execution_count": null,
      "outputs": []
    },
    {
      "cell_type": "markdown",
      "metadata": {
        "id": "N_wyOM6hMtSI"
      },
      "source": [
        "**Linked list**"
      ]
    },
    {
      "cell_type": "code",
      "metadata": {
        "id": "nFUgaQEWv7zq"
      },
      "source": [
        "__author__ = 'Minsuk Heo'\n",
        "\"\"\"\n",
        "Linked List\n",
        "\"\"\"\n",
        "import unittest\n",
        "\n",
        "class Node:\n",
        "    def __init__(self, item):\n",
        "        self.val = item\n",
        "        self.next = None\n",
        "\n",
        "class LinkedList:\n",
        "    def __init__(self, item):\n",
        "        self.head = Node(item)\n",
        "\n",
        "    def add(self, item):\n",
        "        cur = self.head\n",
        "        while cur.next is not None:\n",
        "            cur = cur.next\n",
        "        cur.next = Node(item)\n",
        "\n",
        "    def remove(self, item):\n",
        "        if self.head.val == item:\n",
        "            self.head = self.head.next\n",
        "        else:\n",
        "            cur = self.head\n",
        "            while cur.next is not None:\n",
        "                if cur.val == item:\n",
        "                    self.removeItem(item)\n",
        "                    return\n",
        "                cur = cur.next\n",
        "            print(\"item does not exist in linked list\")\n",
        "\n",
        "    def removeItem(self, item):\n",
        "        cur = self.head\n",
        "        while cur.next is not None:\n",
        "            if cur.next.val == item:\n",
        "                nextnode = cur.next.next\n",
        "                cur.next = nextnode\n",
        "                break\n",
        "\n",
        "    def reverse(self):\n",
        "        prev = None\n",
        "        cur = self.head\n",
        "        while cur is not None:\n",
        "            next = cur.next\n",
        "            cur.next = prev\n",
        "            prev = cur\n",
        "            cur = next\n",
        "        self.head = prev\n",
        "\n",
        "    def printlist(self):\n",
        "        cur = self.head\n",
        "        while cur is not None:\n",
        "            print(cur.val)\n",
        "            cur = cur.next\n",
        "\n",
        "\n",
        "class LinkedListTest(unittest.TestCase):\n",
        "    def test(self):\n",
        "        ll = LinkedList(3)\n",
        "        self.assertEqual(ll.head.val, 3)\n",
        "        ll.add(4)\n",
        "        self.assertEqual(ll.head.next.val, 4)\n",
        "        ll.add(5)\n",
        "        self.assertEqual(ll.head.next.next.val, 5)\n",
        "        ll.remove(3)\n",
        "        self.assertEqual(ll.head.val, 4)\n",
        "        ll.remove(4)\n",
        "        self.assertEqual(ll.head.val, 5)\n",
        "        ll.add(6)\n",
        "        self.assertEqual(ll.head.next.val, 6)\n",
        "        ll.add(7)\n",
        "        self.assertEqual(ll.head.next.next.val, 7)\n",
        "        ll.printlist()\n",
        "        ll.remove(6)\n",
        "        self.assertEqual(ll.head.next.val, 7)\n",
        "\n",
        "        ll2 = LinkedList(9)\n",
        "        ll2.add(8)\n",
        "        ll2.add(7)\n",
        "        ll2.reverse()\n",
        "        self.assertEqual(ll2.head.val, 7)\n",
        "        self.assertEqual(ll2.head.next.val, 8)"
      ],
      "execution_count": null,
      "outputs": []
    },
    {
      "cell_type": "code",
      "metadata": {
        "id": "0c7ZNSwVMvaD"
      },
      "source": [
        ""
      ],
      "execution_count": null,
      "outputs": []
    }
  ]
}