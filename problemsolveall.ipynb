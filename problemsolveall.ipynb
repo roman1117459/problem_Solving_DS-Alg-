{
  "nbformat": 4,
  "nbformat_minor": 0,
  "metadata": {
    "accelerator": "GPU",
    "colab": {
      "name": "problemsolveall.ipynb",
      "provenance": [],
      "collapsed_sections": []
    },
    "kernelspec": {
      "display_name": "Python 3",
      "name": "python3"
    },
    "language_info": {
      "name": "python"
    }
  },
  "cells": [
    {
      "cell_type": "markdown",
      "metadata": {
        "id": "dMu8Tp8qtXoH"
      },
      "source": [
        "## **Problem 1**"
      ]
    },
    {
      "cell_type": "code",
      "metadata": {
        "colab": {
          "background_save": true,
          "base_uri": "https://localhost:8080/"
        },
        "id": "Hv5M81nntQ9e",
        "outputId": "96162175-4bf3-4735-f73b-bd40ab9f77fe"
      },
      "source": [
        "a = int(input(\"Input any number please: \"))\n",
        "if a % 3 == 0 and a % 5 == 0:\n",
        "  print(\"Yes\")\n",
        "else:\n",
        "  print(\"No\")"
      ],
      "execution_count": null,
      "outputs": [
        {
          "name": "stdout",
          "output_type": "stream",
          "text": [
            "No\n"
          ]
        }
      ]
    },
    {
      "cell_type": "markdown",
      "metadata": {
        "id": "FzpRR-gzu-dQ"
      },
      "source": [
        "## **Problem 2** "
      ]
    },
    {
      "cell_type": "code",
      "metadata": {
        "colab": {
          "background_save": true,
          "base_uri": "https://localhost:8080/"
        },
        "id": "WUdHyfzaunpt",
        "outputId": "6dc86227-9ced-46f9-ba6d-10ccea9e329b"
      },
      "source": [
        "a = int(input())\n",
        "if a <0 :\n",
        "  print(\"a is neg\")\n",
        "elif a>0:\n",
        "  print(\" a is pos\")\n",
        "else:\n",
        "  print(\"0\")"
      ],
      "execution_count": null,
      "outputs": [
        {
          "name": "stdout",
          "output_type": "stream",
          "text": [
            " a is pos\n"
          ]
        }
      ]
    },
    {
      "cell_type": "markdown",
      "metadata": {
        "id": "29FEAFy8xNmk"
      },
      "source": [
        "## **Problem 3** "
      ]
    },
    {
      "cell_type": "code",
      "metadata": {
        "colab": {
          "background_save": true,
          "base_uri": "https://localhost:8080/"
        },
        "id": "iXD9HmNuw_HA",
        "outputId": "c755bf07-6bc2-4263-990f-6eb8ae7507a8"
      },
      "source": [
        "a = int(input(\"Input any number please: \"))\n",
        "\n",
        "if a % 2 == 0:\n",
        "  print(\"even number \")\n",
        "else:\n",
        "  print(\"Odd number\")"
      ],
      "execution_count": null,
      "outputs": [
        {
          "name": "stdout",
          "output_type": "stream",
          "text": [
            "Odd number\n"
          ]
        }
      ]
    },
    {
      "cell_type": "markdown",
      "metadata": {
        "id": "ejz3nAbZyW1S"
      },
      "source": [
        "## **Problem 4**\n",
        "\n",
        "\n",
        "\n"
      ]
    },
    {
      "cell_type": "code",
      "metadata": {
        "colab": {
          "background_save": true,
          "base_uri": "https://localhost:8080/"
        },
        "id": "u9maDi-eyLsS",
        "outputId": "4626d65e-f4a1-46c8-c115-850e143298d3"
      },
      "source": [
        "a = input(\"Input a character please: \")\n",
        "\n",
        "if a >= 'a' and a <= 'z':\n",
        "  print(\"lower\")\n",
        "elif a >= 'A' and a <= 'Z':\n",
        "  print(\"higher\")\n",
        "else:\n",
        "  print(\"nothing\")"
      ],
      "execution_count": null,
      "outputs": [
        {
          "name": "stdout",
          "output_type": "stream",
          "text": [
            "nothing\n"
          ]
        }
      ]
    },
    {
      "cell_type": "markdown",
      "metadata": {
        "id": "2QOzB1LqzeHM"
      },
      "source": [
        "## **Problem 5**"
      ]
    },
    {
      "cell_type": "code",
      "metadata": {
        "colab": {
          "background_save": true,
          "base_uri": "https://localhost:8080/"
        },
        "id": "udrdXICmzOCD",
        "outputId": "06769b06-557d-4990-c24b-c35482897816"
      },
      "source": [
        "a = input(\"Please input a character: \")\n",
        "\n",
        "if a >= 'a' and a <= 'z' or a >= 'A' and a <= 'Z':\n",
        "  if a in 'aeiouAEIOU':\n",
        "    print(\"Vowel!!!!\")\n",
        "  else:\n",
        "    print(\"Consonant...\")\n",
        "else:\n",
        "  print(\"This is not a character :(\")"
      ],
      "execution_count": null,
      "outputs": [
        {
          "name": "stdout",
          "output_type": "stream",
          "text": [
            "This is not a character :(\n"
          ]
        }
      ]
    },
    {
      "cell_type": "markdown",
      "metadata": {
        "id": "8dqG0yz91PUh"
      },
      "source": [
        "## **Problem 6**"
      ]
    },
    {
      "cell_type": "code",
      "metadata": {
        "colab": {
          "base_uri": "https://localhost:8080/"
        },
        "id": "6l9Z6BzFzcJ7",
        "outputId": "30d7f4d3-fc0b-4d8c-a187-02484f7163f9"
      },
      "source": [
        "a = int(input(\"Please input your a: \"))\n",
        "b = a\n",
        "temp = a//1000\n",
        "print(temp, '1000 Taka note(s).')\n",
        "if temp > 0:\n",
        "    a = a%1000\n",
        "    b = a #b changed\n",
        "else:\n",
        "    a = b #existing a\n",
        "temp = a//500\n",
        "print(temp, '500 Taka note(s).')\n",
        "if temp > 0:\n",
        "    a = a%500\n",
        "    b = a\n",
        "else:\n",
        "    a = b\n",
        "temp = a // 200\n",
        "print(temp, '200 Taka note(s).')\n",
        "if temp > 0:\n",
        "    a = a%200\n",
        "    b = a\n",
        "else:\n",
        "    a = b\n",
        "temp = a//100\n",
        "print(temp, '100 Taka note(s).')\n",
        "if temp > 0:\n",
        "    a = a%100\n",
        "    b = a\n",
        "else:\n",
        "    a = b\n",
        "temp = a//50\n",
        "print(temp, '50 Taka note(s).')\n",
        "if temp > 0:\n",
        "    a = a%50\n",
        "    b = a\n",
        "else:\n",
        "    a = b\n",
        "temp = a//20\n",
        "print(temp, '20 Taka note(s).')\n",
        "if temp > 0:\n",
        "    a = a%20\n",
        "    b = a\n",
        "else:\n",
        "    a = b\n",
        "temp = a//10\n",
        "print(temp, '10 Taka note(s).')\n",
        "if temp > 0:\n",
        "    a = a%10\n",
        "    b = a\n",
        "else:\n",
        "    a = b\n",
        "temp = a//5\n",
        "print(temp, '5 Taka note(s).')\n",
        "if temp > 0:\n",
        "    a = a%5\n",
        "    b = a\n",
        "else:\n",
        "    a = b\n",
        "temp = a//2\n",
        "print(temp, '2 Taka note(s).')\n",
        "if temp > 0:\n",
        "    a = a%2\n",
        "    b = a\n",
        "else:\n",
        "    a = b\n",
        "temp = a//1\n",
        "print(temp, '1 Taka note(s).')"
      ],
      "execution_count": null,
      "outputs": [
        {
          "output_type": "stream",
          "name": "stdout",
          "text": [
            "Please input your a: 450\n",
            "0 1000 Taka note(s).\n",
            "0 500 Taka note(s).\n",
            "2 200 Taka note(s).\n",
            "0 100 Taka note(s).\n",
            "1 50 Taka note(s).\n",
            "0 20 Taka note(s).\n",
            "0 10 Taka note(s).\n",
            "0 5 Taka note(s).\n",
            "0 2 Taka note(s).\n",
            "0 1 Taka note(s).\n"
          ]
        }
      ]
    },
    {
      "cell_type": "code",
      "metadata": {
        "colab": {
          "base_uri": "https://localhost:8080/"
        },
        "id": "qz3nzl5TY7xA",
        "outputId": "df7cc99a-3edb-41ef-b04b-67a7daa5c8d1"
      },
      "source": [
        "200//1000"
      ],
      "execution_count": null,
      "outputs": [
        {
          "output_type": "execute_result",
          "data": {
            "text/plain": [
              "0"
            ]
          },
          "metadata": {},
          "execution_count": 7
        }
      ]
    },
    {
      "cell_type": "code",
      "metadata": {
        "id": "2QADvya0Y_IA"
      },
      "source": [
        ""
      ],
      "execution_count": null,
      "outputs": []
    },
    {
      "cell_type": "code",
      "metadata": {
        "colab": {
          "base_uri": "https://localhost:8080/"
        },
        "id": "N6WtlfDR1OEj",
        "outputId": "54cbe8ab-566d-4eaf-adfb-a810faffc487"
      },
      "source": [
        "500 //1000\n"
      ],
      "execution_count": null,
      "outputs": [
        {
          "output_type": "execute_result",
          "data": {
            "text/plain": [
              "0"
            ]
          },
          "metadata": {},
          "execution_count": 8
        }
      ]
    },
    {
      "cell_type": "code",
      "metadata": {
        "colab": {
          "base_uri": "https://localhost:8080/"
        },
        "id": "rXMTFQlGoYId",
        "outputId": "20417d97-66b1-447b-ae80-6fbe3dee0015"
      },
      "source": [
        "50//200"
      ],
      "execution_count": null,
      "outputs": [
        {
          "output_type": "execute_result",
          "data": {
            "text/plain": [
              "0"
            ]
          },
          "metadata": {},
          "execution_count": 9
        }
      ]
    },
    {
      "cell_type": "code",
      "metadata": {
        "colab": {
          "base_uri": "https://localhost:8080/"
        },
        "id": "e4Ld_FqsxI2n",
        "outputId": "f58525fc-966a-4a5f-9801-c78f8b88854f"
      },
      "source": [
        "1%10"
      ],
      "execution_count": null,
      "outputs": [
        {
          "output_type": "execute_result",
          "data": {
            "text/plain": [
              "1"
            ]
          },
          "metadata": {},
          "execution_count": 10
        }
      ]
    },
    {
      "cell_type": "code",
      "metadata": {
        "colab": {
          "base_uri": "https://localhost:8080/"
        },
        "id": "V3iIiptDxnRO",
        "outputId": "40f2462b-428c-4506-9bb9-e9dcaeb7e8f7"
      },
      "source": [
        "1//10"
      ],
      "execution_count": null,
      "outputs": [
        {
          "output_type": "execute_result",
          "data": {
            "text/plain": [
              "0"
            ]
          },
          "metadata": {},
          "execution_count": 11
        }
      ]
    },
    {
      "cell_type": "markdown",
      "metadata": {
        "id": "M8LEfl9Ytc0m"
      },
      "source": [
        "[link text](https://)## **Problem Conditional Excercise**"
      ]
    },
    {
      "cell_type": "markdown",
      "metadata": {
        "id": "BHb9r6Hn0Cog"
      },
      "source": [
        "## **# Leap year**"
      ]
    },
    {
      "cell_type": "code",
      "metadata": {
        "colab": {
          "base_uri": "https://localhost:8080/"
        },
        "id": "YHz85vGfr1Bl",
        "outputId": "ea802ace-161a-462a-c520-4b599b2f0bd1"
      },
      "source": [
        "x = int(input(\"Enter your Birth year please: \"))\n",
        "result = [\"Leap year!\" if x%400 == 0 or x%4 == 0 and x % 100 != 0 else \"Non Leap Year!\"]\n",
        "print(result)"
      ],
      "execution_count": null,
      "outputs": [
        {
          "output_type": "stream",
          "name": "stdout",
          "text": [
            "Enter your Birth year please: 1998\n",
            "['Non Leap Year!']\n"
          ]
        }
      ]
    },
    {
      "cell_type": "code",
      "metadata": {
        "colab": {
          "base_uri": "https://localhost:8080/"
        },
        "id": "e0flYMYu2YkZ",
        "outputId": "628523f2-3906-492b-92ce-cd0d230f4b49"
      },
      "source": [
        "x = int(input(\"Enter your Birth year please: \"))\n",
        "if (x%4 == 0 and x % 100 != 0 or x%400 == 0):\n",
        "  print(\"Leap year!\")\n",
        "else:\n",
        "  print(\"Non leap year!\")"
      ],
      "execution_count": null,
      "outputs": [
        {
          "output_type": "stream",
          "name": "stdout",
          "text": [
            "Enter your Birth year please: 1000\n",
            "Non leap year!\n"
          ]
        }
      ]
    },
    {
      "cell_type": "markdown",
      "metadata": {
        "id": "HByUqWAj6B_v"
      },
      "source": [
        "# Loop\n"
      ]
    },
    {
      "cell_type": "markdown",
      "metadata": {
        "id": "l-uJm20aclve"
      },
      "source": [
        "#Practice"
      ]
    },
    {
      "cell_type": "code",
      "metadata": {
        "colab": {
          "base_uri": "https://localhost:8080/"
        },
        "id": "FpmHFATB3Gca",
        "outputId": "e04b26ce-99ac-4a30-9e7e-9c885dd3546c"
      },
      "source": [
        "n = 1\n",
        "temp = 0\n",
        "while n <= 100:\n",
        "    temp = temp + n\n",
        "    n = n + 1\n",
        "print(temp)"
      ],
      "execution_count": null,
      "outputs": [
        {
          "output_type": "stream",
          "name": "stdout",
          "text": [
            "5050\n"
          ]
        }
      ]
    },
    {
      "cell_type": "code",
      "metadata": {
        "colab": {
          "base_uri": "https://localhost:8080/"
        },
        "id": "epSzl8GhczMO",
        "outputId": "7b4067a8-8ed3-49b3-ab1c-f3d35ff39295"
      },
      "source": [
        "n = 100\n",
        "temp = n*(n+1)/2\n",
        "print(temp)"
      ],
      "execution_count": null,
      "outputs": [
        {
          "output_type": "stream",
          "name": "stdout",
          "text": [
            "5050.0\n"
          ]
        }
      ]
    },
    {
      "cell_type": "code",
      "metadata": {
        "colab": {
          "base_uri": "https://localhost:8080/"
        },
        "id": "bxAn9b2KwBTm",
        "outputId": "e96d15b3-9d00-41ea-a93a-54e769d29148"
      },
      "source": [
        "n = 1\n",
        "temp = 0\n",
        "while n <= 97:\n",
        "    temp = temp + n\n",
        "    n = n + 2\n",
        "print(temp)"
      ],
      "execution_count": null,
      "outputs": [
        {
          "output_type": "stream",
          "name": "stdout",
          "text": [
            "2401\n"
          ]
        }
      ]
    },
    {
      "cell_type": "code",
      "metadata": {
        "colab": {
          "base_uri": "https://localhost:8080/"
        },
        "id": "MKgGBs9_y7Ik",
        "outputId": "e0d3b87b-848a-4336-c39c-685b152fbfc8"
      },
      "source": [
        "a = ['onion', 'potato', 'ginger', 'cucumber']\n",
        "print(type(a))\n",
        "for item in a:\n",
        "    print(item)"
      ],
      "execution_count": null,
      "outputs": [
        {
          "output_type": "stream",
          "name": "stdout",
          "text": [
            "<class 'list'>\n",
            "onion\n",
            "potato\n",
            "ginger\n",
            "cucumber\n"
          ]
        }
      ]
    },
    {
      "cell_type": "code",
      "metadata": {
        "colab": {
          "base_uri": "https://localhost:8080/"
        },
        "id": "iDreAJujzQV9",
        "outputId": "977c7521-c62d-4ead-db25-ea4e3c34ff84"
      },
      "source": [
        "a = {'name' : 'MD. Maksudur Rahman Khan', 'nickname' : 'Maateen', 'email' : 'maateen@outlook.com', 'phone' : '01711223344'}\n",
        "print(a)\n",
        "print(type(a))\n",
        "for item in a:\n",
        "    print(item)"
      ],
      "execution_count": null,
      "outputs": [
        {
          "output_type": "stream",
          "name": "stdout",
          "text": [
            "{'name': 'MD. Maksudur Rahman Khan', 'nickname': 'Maateen', 'email': 'maateen@outlook.com', 'phone': '01711223344'}\n",
            "<class 'dict'>\n",
            "name\n",
            "nickname\n",
            "email\n",
            "phone\n"
          ]
        }
      ]
    },
    {
      "cell_type": "code",
      "metadata": {
        "colab": {
          "base_uri": "https://localhost:8080/"
        },
        "id": "ilzHZ4gDzr1E",
        "outputId": "86d69ffe-c72e-429b-e5a1-be332daccf9c"
      },
      "source": [
        "a = \"python\"\n",
        "for i in a:\n",
        "  print(i)"
      ],
      "execution_count": null,
      "outputs": [
        {
          "output_type": "stream",
          "name": "stdout",
          "text": [
            "p\n",
            "y\n",
            "t\n",
            "h\n",
            "o\n",
            "n\n"
          ]
        }
      ]
    },
    {
      "cell_type": "code",
      "metadata": {
        "colab": {
          "base_uri": "https://localhost:8080/"
        },
        "id": "K2G-jlmSz_n8",
        "outputId": "687e1f9a-c562-4e7b-8ad4-929852f579bf"
      },
      "source": [
        "for i in range(0,11):\n",
        "  print(i)"
      ],
      "execution_count": null,
      "outputs": [
        {
          "output_type": "stream",
          "name": "stdout",
          "text": [
            "0\n",
            "1\n",
            "2\n",
            "3\n",
            "4\n",
            "5\n",
            "6\n",
            "7\n",
            "8\n",
            "9\n",
            "10\n"
          ]
        }
      ]
    },
    {
      "cell_type": "code",
      "metadata": {
        "colab": {
          "base_uri": "https://localhost:8080/"
        },
        "id": "IsgND4-U05Pk",
        "outputId": "b168dac0-e886-4e51-d9f6-c6e9eaaa5796"
      },
      "source": [
        "#Break \n",
        "for number in range(1, 11):\n",
        "    if number == 5:\n",
        "        break\n",
        "    print(number)"
      ],
      "execution_count": null,
      "outputs": [
        {
          "output_type": "stream",
          "name": "stdout",
          "text": [
            "1\n",
            "2\n",
            "3\n",
            "4\n"
          ]
        }
      ]
    },
    {
      "cell_type": "code",
      "metadata": {
        "colab": {
          "base_uri": "https://localhost:8080/"
        },
        "id": "A53c8qBS3a2W",
        "outputId": "2924e3e0-b62a-4e16-b504-4d56ee31b265"
      },
      "source": [
        "#continue\n",
        "for number in range(1, 11):\n",
        "    if number == 5:\n",
        "        continue\n",
        "    print(number)"
      ],
      "execution_count": null,
      "outputs": [
        {
          "output_type": "stream",
          "name": "stdout",
          "text": [
            "1\n",
            "2\n",
            "3\n",
            "4\n",
            "6\n",
            "7\n",
            "8\n",
            "9\n",
            "10\n"
          ]
        }
      ]
    },
    {
      "cell_type": "code",
      "metadata": {
        "colab": {
          "base_uri": "https://localhost:8080/"
        },
        "id": "nQimJItW4Oac",
        "outputId": "68489673-dfe0-4d80-956c-f9e0364f646a"
      },
      "source": [
        "#pass\n",
        "for i in range(1,11):\n",
        "  if i == 5: \n",
        "    pass\n",
        "  print(i)"
      ],
      "execution_count": null,
      "outputs": [
        {
          "output_type": "stream",
          "name": "stdout",
          "text": [
            "1\n",
            "2\n",
            "3\n",
            "4\n",
            "5\n",
            "6\n",
            "7\n",
            "8\n",
            "9\n",
            "10\n"
          ]
        }
      ]
    },
    {
      "cell_type": "code",
      "metadata": {
        "colab": {
          "base_uri": "https://localhost:8080/"
        },
        "id": "QYh9Wm-a4hBF",
        "outputId": "296e6721-2ed7-411d-f3eb-f0a681ed7dd9"
      },
      "source": [
        "#else in while\n",
        "n = 1\n",
        "while n <= 10:\n",
        "  print(n)\n",
        "  n = n + 1\n",
        "else:\n",
        "  print(\"Everything is done!!!\")"
      ],
      "execution_count": null,
      "outputs": [
        {
          "output_type": "stream",
          "name": "stdout",
          "text": [
            "1\n",
            "2\n",
            "3\n",
            "4\n",
            "5\n",
            "6\n",
            "7\n",
            "8\n",
            "9\n",
            "10\n",
            "Everything is done!!!\n"
          ]
        }
      ]
    },
    {
      "cell_type": "code",
      "metadata": {
        "colab": {
          "base_uri": "https://localhost:8080/"
        },
        "id": "hLARko027vqo",
        "outputId": "c549c470-3872-43ae-c9b6-709f1b4229e1"
      },
      "source": [
        "for n in range(0, 11):\n",
        "    print(n)\n",
        "    n = n + 1\n",
        "else:\n",
        "    print('The loop is over.')"
      ],
      "execution_count": null,
      "outputs": [
        {
          "output_type": "stream",
          "name": "stdout",
          "text": [
            "0\n",
            "1\n",
            "2\n",
            "3\n",
            "4\n",
            "5\n",
            "6\n",
            "7\n",
            "8\n",
            "9\n",
            "10\n",
            "The loop is over.\n"
          ]
        }
      ]
    },
    {
      "cell_type": "code",
      "metadata": {
        "id": "EthPWRMj7-qm"
      },
      "source": [
        "# i = 1\n",
        "# while i > 0:\n",
        "#     i += 1\n",
        "#     print(i)"
      ],
      "execution_count": null,
      "outputs": []
    },
    {
      "cell_type": "markdown",
      "metadata": {
        "id": "cP5uvlvnDCI7"
      },
      "source": [
        "#Problem 1"
      ]
    },
    {
      "cell_type": "code",
      "metadata": {
        "colab": {
          "base_uri": "https://localhost:8080/"
        },
        "id": "r0hniIcB8Wsf",
        "outputId": "42413317-e090-4db1-951c-326784350c59"
      },
      "source": [
        "n = int(input(\"Please inpyt a digit: \"))\n",
        "i = 1\n",
        "while i <= 10: \n",
        "  s = n * i\n",
        "  print(n,\"X\",i,\"=\",s )\n",
        "  i = i + 1"
      ],
      "execution_count": null,
      "outputs": [
        {
          "output_type": "stream",
          "name": "stdout",
          "text": [
            "Please inpyt a digit: 4\n",
            "4 X 1 = 4\n",
            "4 X 2 = 8\n",
            "4 X 3 = 12\n",
            "4 X 4 = 16\n",
            "4 X 5 = 20\n",
            "4 X 6 = 24\n",
            "4 X 7 = 28\n",
            "4 X 8 = 32\n",
            "4 X 9 = 36\n",
            "4 X 10 = 40\n"
          ]
        }
      ]
    },
    {
      "cell_type": "markdown",
      "metadata": {
        "id": "veE4MTcelIaM"
      },
      "source": [
        "#Problem 2"
      ]
    },
    {
      "cell_type": "code",
      "metadata": {
        "colab": {
          "base_uri": "https://localhost:8080/"
        },
        "id": "xkTr34VqH1yT",
        "outputId": "c36dd301-c0fb-46ff-a484-58f3b4d2ba98"
      },
      "source": [
        "list_arr = []\n",
        "for i in range(1,101):\n",
        "  if i%3 == 0 and i%5 != 0:\n",
        "    list_arr.append(i)\n",
        "print(list_arr)"
      ],
      "execution_count": null,
      "outputs": [
        {
          "output_type": "stream",
          "name": "stdout",
          "text": [
            "[3, 6, 9, 12, 18, 21, 24, 27, 33, 36, 39, 42, 48, 51, 54, 57, 63, 66, 69, 72, 78, 81, 84, 87, 93, 96, 99]\n"
          ]
        }
      ]
    },
    {
      "cell_type": "markdown",
      "metadata": {
        "id": "taW6-92Sqvy_"
      },
      "source": [
        "#Problem 3"
      ]
    },
    {
      "cell_type": "code",
      "metadata": {
        "colab": {
          "base_uri": "https://localhost:8080/"
        },
        "id": "2XNd3vmLoeA_",
        "outputId": "904f1994-27af-4842-f678-1c1d3d561207"
      },
      "source": [
        "a = [13, 34, 19, 28, 46, 61, 73, 49, 1, 31, 4, 7, 91, 58, 52, 82, 70, 43, 88, 55, 97, 16, 22, 25, 79, 85, 40, 64, 94, 67, 37]\n",
        "my_list= []\n",
        "\n",
        "for i in a:\n",
        "  if i < 50:\n",
        "    my_list.append(i)\n",
        "    \n",
        "print(my_list)"
      ],
      "execution_count": null,
      "outputs": [
        {
          "output_type": "stream",
          "name": "stdout",
          "text": [
            "[13, 34, 19, 28, 46, 49, 1, 31, 4, 7, 43, 16, 22, 25, 40, 37]\n"
          ]
        }
      ]
    },
    {
      "cell_type": "markdown",
      "metadata": {
        "id": "pPEUODVH1Psh"
      },
      "source": [
        "#Problem 4"
      ]
    },
    {
      "cell_type": "code",
      "metadata": {
        "id": "fNIf3PN5y7y5",
        "colab": {
          "base_uri": "https://localhost:8080/"
        },
        "outputId": "4ef578ab-dbaf-410d-8085-cd8963761359"
      },
      "source": [
        "a = [40, 45, 33, 34, 8, 38, 28, 22, 1, 7, 49, 41, 14, 5, 22, 39, 15, 19, 36, 37, 43, 2, 5, 42, 46, 48, 49, 12, 48, 37, 8, 20, 30, 20, 4, 37, 27, 29, 7, 44, 15, 32, 35, 10, 28, 18, 2, 15, 36, 38]\n",
        "my_list = []\n",
        "for i in a:\n",
        "  if i not in my_list:\n",
        "    my_list.append(i)\n",
        "print(my_list)"
      ],
      "execution_count": null,
      "outputs": [
        {
          "output_type": "stream",
          "name": "stdout",
          "text": [
            "[40, 45, 33, 34, 8, 38, 28, 22, 1, 7, 49, 41, 14, 5, 39, 15, 19, 36, 37, 43, 2, 42, 46, 48, 12, 20, 30, 4, 27, 29, 44, 32, 35, 10, 18]\n"
          ]
        }
      ]
    },
    {
      "cell_type": "markdown",
      "metadata": {
        "id": "ecZMkeXqIahj"
      },
      "source": [
        "#Problem 5"
      ]
    },
    {
      "cell_type": "code",
      "metadata": {
        "id": "d-4tFZC3HwQr",
        "colab": {
          "base_uri": "https://localhost:8080/"
        },
        "outputId": "6fecb85b-427e-47bb-b089-48ca4f0fd6b2"
      },
      "source": [
        "n = int(input(\"please input a number: \"))\n",
        "i = 1\n",
        "while i >= n:\n",
        "    print(\"*\")\n",
        "    i =+ 1\n"
      ],
      "execution_count": null,
      "outputs": [
        {
          "name": "stdout",
          "output_type": "stream",
          "text": [
            "please input a number: 4\n"
          ]
        }
      ]
    },
    {
      "cell_type": "markdown",
      "metadata": {
        "id": "VmTwxrj0d4_x"
      },
      "source": [
        "#Problem 6"
      ]
    },
    {
      "cell_type": "code",
      "metadata": {
        "colab": {
          "base_uri": "https://localhost:8080/"
        },
        "id": "ts43cvwQa4aL",
        "outputId": "27081c49-9941-4e6a-de9a-862619b94693"
      },
      "source": [
        "n = int(input('Please, input the number: '))\n",
        "temp = n\n",
        "\n",
        "while n > 0:\n",
        "    i = temp\n",
        "    while i > 0:\n",
        "        print('*', end='')\n",
        "        i -= 1\n",
        "    print()\n",
        "    n -= 1"
      ],
      "execution_count": null,
      "outputs": [
        {
          "output_type": "stream",
          "name": "stdout",
          "text": [
            "Please, input the number: 7\n",
            "*******\n",
            "*******\n",
            "*******\n",
            "*******\n",
            "*******\n",
            "*******\n",
            "*******\n"
          ]
        }
      ]
    },
    {
      "cell_type": "code",
      "metadata": {
        "colab": {
          "base_uri": "https://localhost:8080/"
        },
        "id": "fXZCJAZyHTCP",
        "outputId": "56c6b235-277b-4824-cceb-a08770cdcc50"
      },
      "source": [
        "n= int(input('enter * amount: '))\n",
        "temp = n\n",
        "while n > 0:\n",
        "  i = temp\n",
        "  \n",
        "  while i > 0:\n",
        "    print(\" *\", end= \"\")\n",
        "    i -= 1\n",
        "\n",
        "  print()\n",
        "  n -= 1"
      ],
      "execution_count": null,
      "outputs": [
        {
          "output_type": "stream",
          "name": "stdout",
          "text": [
            "enter * amount: 4\n",
            " * * * *\n",
            " * * * *\n",
            " * * * *\n",
            " * * * *\n"
          ]
        }
      ]
    },
    {
      "cell_type": "code",
      "metadata": {
        "colab": {
          "base_uri": "https://localhost:8080/"
        },
        "id": "twDB8X36JU31",
        "outputId": "d6c2391d-adf5-4d8e-cf53-6f1c18c37e74"
      },
      "source": [
        "n = int(input(\"Please Enter any Side of a Square  : \"))\n",
        "i=0\n",
        "while i < n:\n",
        "    j=0\n",
        "    while j < n:  \n",
        "        print('*', end = '  ')    \n",
        "        j = j + 1\n",
        "        \n",
        "    print('')\n",
        "    i = i + 1"
      ],
      "execution_count": null,
      "outputs": [
        {
          "output_type": "stream",
          "name": "stdout",
          "text": [
            "Please Enter any Side of a Square  : 5\n",
            "*  *  *  *  *  \n",
            "*  *  *  *  *  \n",
            "*  *  *  *  *  \n",
            "*  *  *  *  *  \n",
            "*  *  *  *  *  \n"
          ]
        }
      ]
    },
    {
      "cell_type": "code",
      "metadata": {
        "colab": {
          "base_uri": "https://localhost:8080/"
        },
        "id": "vBGn-j2ZEpZR",
        "outputId": "f435e0b4-f3fe-4134-86be-e3940f465397"
      },
      "source": [
        "n = int(input('Enter number of rows : '))\n",
        " \n",
        "i = 1\n",
        "while i <= n :\n",
        "    j = 1\n",
        "    while j <= i:\n",
        "        print(\"*\", end = \" \")\n",
        "        j += 1\n",
        "    print()\n",
        "    i += 1"
      ],
      "execution_count": null,
      "outputs": [
        {
          "output_type": "stream",
          "name": "stdout",
          "text": [
            "Enter number of rows : 5\n",
            "* \n",
            "* * \n",
            "* * * \n",
            "* * * * \n",
            "* * * * * \n"
          ]
        }
      ]
    },
    {
      "cell_type": "code",
      "metadata": {
        "colab": {
          "base_uri": "https://localhost:8080/"
        },
        "id": "pZrKfwcfd7Gx",
        "outputId": "22afb7df-16c7-4c8b-8ad8-0181f2dec8ee"
      },
      "source": [
        " n = int(input('Please, input the number: '))\n",
        "\n",
        "for i in range(0, n):\n",
        "     \n",
        "        # inner loop to handle number of columns\n",
        "        # values changing acc. to outer loop\n",
        "        for j in range(0, i+1):\n",
        "         \n",
        "            # printing stars\n",
        "            print(\"* \",end=\"\")\n",
        "      \n",
        "        # ending line after each row\n",
        "        print()"
      ],
      "execution_count": null,
      "outputs": [
        {
          "output_type": "stream",
          "name": "stdout",
          "text": [
            "Please, input the number: 5\n",
            "* \n",
            "* * \n",
            "* * * \n",
            "* * * * \n",
            "* * * * * \n"
          ]
        }
      ]
    },
    {
      "cell_type": "code",
      "metadata": {
        "id": "THR7UWjQh-Ib",
        "colab": {
          "base_uri": "https://localhost:8080/"
        },
        "outputId": "7e785054-4806-442b-8e23-42275606b6b9"
      },
      "source": [
        "n = int(input('Please, input the number: '))\n",
        "\n",
        "for i in range(0, n):\n",
        "        for j in range(0, i+1):\n",
        "            print(\"* \",end=\"\")\n",
        "      \n",
        "        print()"
      ],
      "execution_count": null,
      "outputs": [
        {
          "output_type": "stream",
          "name": "stdout",
          "text": [
            "Please, input the number: 4\n",
            "* \n",
            "* * \n",
            "* * * \n",
            "* * * * \n"
          ]
        }
      ]
    },
    {
      "cell_type": "markdown",
      "metadata": {
        "id": "x3SuRSh_U8X7"
      },
      "source": [
        "#Problem 6"
      ]
    },
    {
      "cell_type": "code",
      "metadata": {
        "id": "cjSXeGlHIe6C",
        "colab": {
          "base_uri": "https://localhost:8080/"
        },
        "outputId": "7f6c3c9b-39af-42de-81f2-58ffbeb67771"
      },
      "source": [
        "w = input()\n",
        "w = w.casefold()\n",
        "r = w[::-1]\n",
        "\n",
        "if w == r:\n",
        "  print(\"Its palindrome!\")\n",
        "else: \n",
        "  print(\"Its not ! \")\n"
      ],
      "execution_count": null,
      "outputs": [
        {
          "output_type": "stream",
          "name": "stdout",
          "text": [
            "naan\n",
            "Its palindrome!\n"
          ]
        }
      ]
    },
    {
      "cell_type": "markdown",
      "metadata": {
        "id": "ZpOEyP8se61C"
      },
      "source": [
        "#Problem 7"
      ]
    },
    {
      "cell_type": "code",
      "metadata": {
        "colab": {
          "base_uri": "https://localhost:8080/"
        },
        "id": "UchxODCpdUsz",
        "outputId": "25f2a773-7b16-4c29-893b-47317b9d24df"
      },
      "source": [
        "list = [1, 3, 5, 7, 11, 13, 15, 17, 20, 26, 31, 44, 54, 56, 65, 77, 94, 100]\n",
        "\n",
        "n = int(input(\"enter number: \"))\n",
        "count = 1\n",
        "\n",
        "for i in list:\n",
        "  \n",
        "  if n == i: \n",
        "    # print(\"found it\",i)\n",
        "    print(\"Found it position number : \",count)\n",
        "\n",
        "  elif n not in list:\n",
        "    print(\"not found\")\n",
        "    break\n",
        "  \n",
        "  else:\n",
        "    pass \n",
        "\n",
        "  count += 1 "
      ],
      "execution_count": null,
      "outputs": [
        {
          "output_type": "stream",
          "name": "stdout",
          "text": [
            "enter number: 5\n",
            "Found it position number :  3\n"
          ]
        }
      ]
    },
    {
      "cell_type": "code",
      "metadata": {
        "id": "lczuOdBRjAxC",
        "colab": {
          "base_uri": "https://localhost:8080/"
        },
        "outputId": "0fcea164-c13a-494c-d287-a1a7df9af44d"
      },
      "source": [
        "my_list = [1, 3, 5, 7, 11, 13, 15, 17, 20, 26, 31, 44, 54, 56, 65, 77, 94, 100]\n",
        "\n",
        "number = int(input('Input the number:'))\n",
        "\n",
        "first = 0\n",
        "last = len(my_list)-1\n",
        "found = False\n",
        "cycle = 0\n",
        "\n",
        "while first <= last and not found:\n",
        "    midpoint = (first + last)//2\n",
        "    if my_list[midpoint] == number:\n",
        "        found =True\n",
        "    else:\n",
        "        if number < my_list[midpoint]:\n",
        "            last = midpoint-1\n",
        "        else:\n",
        "            first = midpoint+1\n",
        "    cycle +=1\n",
        "\n",
        "\n",
        "print('Found after', cycle, 'cycle.')"
      ],
      "execution_count": null,
      "outputs": [
        {
          "output_type": "stream",
          "name": "stdout",
          "text": [
            "Input the number:3\n",
            "Found after 3 cycle.\n"
          ]
        }
      ]
    },
    {
      "cell_type": "markdown",
      "metadata": {
        "id": "qLRtSvV0m2GG"
      },
      "source": [
        "#comprehension\n"
      ]
    },
    {
      "cell_type": "code",
      "metadata": {
        "id": "U9bl1yS6FRbd",
        "colab": {
          "base_uri": "https://localhost:8080/"
        },
        "outputId": "7f61b47e-7b34-4b9e-aa26-fb9050c2c47c"
      },
      "source": [
        "lst = [1,2,3,4,5,6,7]\n",
        "first_com = [i**2 for i in lst if i % 2 == 0]\n",
        "print(first_com)"
      ],
      "execution_count": null,
      "outputs": [
        {
          "output_type": "stream",
          "name": "stdout",
          "text": [
            "[4, 16, 36]\n"
          ]
        }
      ]
    },
    {
      "cell_type": "markdown",
      "metadata": {
        "id": "7JMrePQznNmK"
      },
      "source": [
        "# function"
      ]
    },
    {
      "cell_type": "code",
      "metadata": {
        "id": "Lydyqne5jyet",
        "colab": {
          "base_uri": "https://localhost:8080/"
        },
        "outputId": "30255234-0b63-4d49-dd00-8b7ef7944dbc"
      },
      "source": [
        "def add(**kwargs):\n",
        "    print(type(kwargs))\n",
        "    tmp = 0\n",
        "    for key in kwargs:\n",
        "        tmp = tmp + kwargs[key]\n",
        "    return tmp\n",
        "temp = add(a=1, b=2, c=3, d=4)\n",
        "print(temp)"
      ],
      "execution_count": null,
      "outputs": [
        {
          "output_type": "stream",
          "name": "stdout",
          "text": [
            "<class 'dict'>\n",
            "10\n"
          ]
        }
      ]
    },
    {
      "cell_type": "code",
      "metadata": {
        "id": "ZBxh38MhrSy8"
      },
      "source": [
        "# def counter(num):\n",
        "#     print(num)\n",
        "#     num += 1\n",
        "#     counter(num)\n",
        "\n",
        "# counter(1)"
      ],
      "execution_count": null,
      "outputs": []
    },
    {
      "cell_type": "code",
      "metadata": {
        "id": "aNGPjzHXFX7T",
        "colab": {
          "base_uri": "https://localhost:8080/"
        },
        "outputId": "b36d0680-65c4-44f2-df92-17c473cbb862"
      },
      "source": [
        "#Factorial \n",
        "\n",
        "print('Please input your number:')\n",
        "number = int(input())\n",
        "temp = number\n",
        "\n",
        "while number > 1:\n",
        "    number -= 1\n",
        "    temp = temp*number\n",
        "\n",
        "if temp == 0:\n",
        "    print(1)\n",
        "else:\n",
        "    print(temp)\n",
        "  "
      ],
      "execution_count": null,
      "outputs": [
        {
          "output_type": "stream",
          "name": "stdout",
          "text": [
            "Please input your number:\n",
            "5\n",
            "120\n"
          ]
        }
      ]
    },
    {
      "cell_type": "code",
      "metadata": {
        "colab": {
          "base_uri": "https://localhost:8080/"
        },
        "id": "BpADvgowoScv",
        "outputId": "b3452cb1-ebbe-4821-dbd6-56378cfdc519"
      },
      "source": [
        "def factorial(number):\n",
        "    if number == 0:\n",
        "        return 1\n",
        "    else:\n",
        "        return number * factorial(number - 1)\n",
        "\n",
        "print('Please input your number:')\n",
        "number = int(input())\n",
        "print(factorial(number))"
      ],
      "execution_count": null,
      "outputs": [
        {
          "output_type": "stream",
          "name": "stdout",
          "text": [
            "Please input your number:\n",
            "0\n",
            "1\n"
          ]
        }
      ]
    },
    {
      "cell_type": "code",
      "metadata": {
        "id": "Hb3b5Fa1oTPt",
        "colab": {
          "base_uri": "https://localhost:8080/"
        },
        "outputId": "1abebe01-cc91-450a-90a3-36a4c0edf23c"
      },
      "source": [
        "#lambda_function\n",
        "def my_function(func, arg1, arg2):\n",
        "    return func(arg1, arg2)\n",
        "\n",
        "print(my_function(lambda a, b : a + b , 10, 20))"
      ],
      "execution_count": null,
      "outputs": [
        {
          "output_type": "stream",
          "name": "stdout",
          "text": [
            "30\n"
          ]
        }
      ]
    },
    {
      "cell_type": "code",
      "metadata": {
        "id": "RrIE8JwKgJrU",
        "colab": {
          "base_uri": "https://localhost:8080/"
        },
        "outputId": "9d38041b-2ca1-4dbc-ab6f-d68a31695e37"
      },
      "source": [
        "#Map\n",
        "my_list = [2, 3, 4, 5, 6, 7]\n",
        "\n",
        "def square(x):\n",
        "    return x * x\n",
        "\n",
        "new_list = map(square, my_list)\n",
        "print(new_list)\n",
        "print(list(new_list))\n"
      ],
      "execution_count": null,
      "outputs": [
        {
          "output_type": "stream",
          "name": "stdout",
          "text": [
            "<map object at 0x7efc1b69c590>\n",
            "[4, 9, 16, 25, 36, 49]\n"
          ]
        }
      ]
    },
    {
      "cell_type": "code",
      "metadata": {
        "colab": {
          "base_uri": "https://localhost:8080/"
        },
        "id": "9SsjojpAHfcH",
        "outputId": "acf06d85-9030-4ea4-afb7-b47f94d74dd6"
      },
      "source": [
        "#Filter\n",
        "my_list = [2, 3, 4, 5, 6, 7]\n",
        "\n",
        "def is_even(x):\n",
        "    if (x % 2) == 0:\n",
        "        return True\n",
        "    else:\n",
        "        return False\n",
        "\n",
        "new_list = filter(is_even, my_list)\n",
        "print(new_list)\n",
        "print(list(new_list))"
      ],
      "execution_count": null,
      "outputs": [
        {
          "output_type": "stream",
          "name": "stdout",
          "text": [
            "<filter object at 0x7efc1842d5d0>\n",
            "[2, 4, 6]\n"
          ]
        }
      ]
    },
    {
      "cell_type": "markdown",
      "metadata": {
        "id": "A-j26lRpJzt6"
      },
      "source": [
        "#Function "
      ]
    },
    {
      "cell_type": "markdown",
      "metadata": {
        "id": "dge2FZx9J7_C"
      },
      "source": [
        "#Problem 1\n"
      ]
    },
    {
      "cell_type": "code",
      "metadata": {
        "id": "NMfDYwuZHqUN",
        "colab": {
          "base_uri": "https://localhost:8080/"
        },
        "outputId": "220f8eb5-95b8-429c-f51b-0e0a348ee206"
      },
      "source": [
        "def greater(a,b,c):\n",
        "  if a >= b and a >= c:\n",
        "    greatest = a\n",
        "  elif b >= a and b >= a:\n",
        "    greatest = b\n",
        "  else:\n",
        "    greatest = c \n",
        "  return greatest\n",
        "a,b,c = map(int,input(\"please input 3 integers: \").split())\n",
        "print(greater(a,b,c))"
      ],
      "execution_count": null,
      "outputs": [
        {
          "output_type": "stream",
          "name": "stdout",
          "text": [
            "please input 3 integers: 90 28 90\n",
            "90\n"
          ]
        }
      ]
    },
    {
      "cell_type": "markdown",
      "metadata": {
        "id": "HbWBAWqdsTl-"
      },
      "source": [
        "#Problem 2\n"
      ]
    },
    {
      "cell_type": "code",
      "metadata": {
        "id": "dZDy6p7dQ7zi",
        "colab": {
          "base_uri": "https://localhost:8080/"
        },
        "outputId": "7c1003ef-c105-4cdb-f7f6-a6c2a7a86d53"
      },
      "source": [
        "def gcdcal(a,b):\n",
        "  if b > a:\n",
        "    gcdcal(b,a)\n",
        "  while b != 0:\n",
        "     temp = a % b\n",
        "     a = b\n",
        "     b = temp \n",
        "  return a\n",
        "\n",
        "a , b = map(int, input(\"Enter 2 number for getting GCD: \").split())\n",
        "print(gcdcal(a,b))"
      ],
      "execution_count": null,
      "outputs": [
        {
          "output_type": "stream",
          "name": "stdout",
          "text": [
            "Enter 2 number for getting GCD: 30 40\n",
            "10\n"
          ]
        }
      ]
    },
    {
      "cell_type": "markdown",
      "metadata": {
        "id": "7XfD2KIaJdcg"
      },
      "source": [
        "#Problem 3def"
      ]
    },
    {
      "cell_type": "code",
      "metadata": {
        "id": "30AIyblCvO64",
        "colab": {
          "base_uri": "https://localhost:8080/"
        },
        "outputId": "fc8a0300-f060-4318-e60c-f603d9b07d3d"
      },
      "source": [
        "def gcd(a,b):\n",
        "  if b > a:\n",
        "    gcd(b,a)\n",
        "  while b != 0:\n",
        "    temp = a % b\n",
        "    a = b\n",
        "    b = temp\n",
        "  return a \n",
        "\n",
        "def lcm(a,b):\n",
        "  return (a*b) // gcd(a,b) \n",
        "\n",
        "a, b = map(int, input(\"Enter 2 Number please: \").split())\n",
        "print(lcm(a,b))"
      ],
      "execution_count": null,
      "outputs": [
        {
          "output_type": "stream",
          "name": "stdout",
          "text": [
            "Enter 2 Number please: 18 12\n",
            "36\n"
          ]
        }
      ]
    },
    {
      "cell_type": "markdown",
      "metadata": {
        "id": "NtwzkIplUKNy"
      },
      "source": [
        "#Problem 4"
      ]
    },
    {
      "cell_type": "code",
      "metadata": {
        "colab": {
          "base_uri": "https://localhost:8080/"
        },
        "id": "CtfSVpSmRV5U",
        "outputId": "50db2d52-d6fe-4669-cb01-344f81d7e221"
      },
      "source": [
        "def is_prime(n):\n",
        "    if n <= 1:\n",
        "        raise ValueError('The number must be greater than 1.')\n",
        "    elif n <= 3:\n",
        "        return True\n",
        "    elif (n % 2) == 0 or (n % 3) == 0:\n",
        "        return False\n",
        "    else:\n",
        "        i = 5\n",
        "        while (i * i) <= n:\n",
        "            if (n % i) == 0 or (n % i+2) == 0:\n",
        "                return False\n",
        "            i = i + 6\n",
        "        return True\n",
        "\n",
        "number = int(input('Please input your number: '))\n",
        "\n",
        "if is_prime(number):\n",
        "    print(number, 'is a prime number.')\n",
        "else:\n",
        "    print(number, 'is a composite number.')"
      ],
      "execution_count": null,
      "outputs": [
        {
          "output_type": "stream",
          "name": "stdout",
          "text": [
            "Please input your number: 223\n",
            "223 is a prime number.\n"
          ]
        }
      ]
    },
    {
      "cell_type": "code",
      "metadata": {
        "id": "r1bTlNHGaXVD",
        "colab": {
          "base_uri": "https://localhost:8080/"
        },
        "outputId": "5a4c8961-4b05-45eb-abd9-f5a4e99c179e"
      },
      "source": [
        "number = int(input(\"enter a number: \"))\n",
        "sqrt = number ** 0.5\n",
        "print(\"square root:\", sqrt)"
      ],
      "execution_count": null,
      "outputs": [
        {
          "output_type": "stream",
          "name": "stdout",
          "text": [
            "enter a number: 132\n",
            "square root: 11.489125293076057\n"
          ]
        }
      ]
    },
    {
      "cell_type": "code",
      "metadata": {
        "colab": {
          "base_uri": "https://localhost:8080/"
        },
        "id": "9c2yAsSYbpDe",
        "outputId": "cc60e0bf-c7c4-426d-a0d6-464fc75a96ef"
      },
      "source": [
        "223% 13\n"
      ],
      "execution_count": null,
      "outputs": [
        {
          "output_type": "execute_result",
          "data": {
            "text/plain": [
              "2"
            ]
          },
          "metadata": {},
          "execution_count": 7
        }
      ]
    },
    {
      "cell_type": "code",
      "metadata": {
        "colab": {
          "base_uri": "https://localhost:8080/"
        },
        "id": "F-dSV1KndBw1",
        "outputId": "a18c2eb1-3e6c-484b-b79e-3934bbc9f0c7"
      },
      "source": [
        "17 * 17"
      ],
      "execution_count": null,
      "outputs": [
        {
          "output_type": "execute_result",
          "data": {
            "text/plain": [
              "289"
            ]
          },
          "metadata": {},
          "execution_count": 8
        }
      ]
    },
    {
      "cell_type": "code",
      "metadata": {
        "id": "tMuUEniidN49",
        "colab": {
          "base_uri": "https://localhost:8080/"
        },
        "outputId": "274b5c3c-470c-43b9-f532-faa75d1663c6"
      },
      "source": [
        "def onetohun():\n",
        "  i = 0\n",
        "  while i < 100:\n",
        "    i += 1\n",
        "    print(i)\n",
        "onetohun()"
      ],
      "execution_count": null,
      "outputs": [
        {
          "output_type": "stream",
          "name": "stdout",
          "text": [
            "1\n",
            "2\n",
            "3\n",
            "4\n",
            "5\n",
            "6\n",
            "7\n",
            "8\n",
            "9\n",
            "10\n",
            "11\n",
            "12\n",
            "13\n",
            "14\n",
            "15\n",
            "16\n",
            "17\n",
            "18\n",
            "19\n",
            "20\n",
            "21\n",
            "22\n",
            "23\n",
            "24\n",
            "25\n",
            "26\n",
            "27\n",
            "28\n",
            "29\n",
            "30\n",
            "31\n",
            "32\n",
            "33\n",
            "34\n",
            "35\n",
            "36\n",
            "37\n",
            "38\n",
            "39\n",
            "40\n",
            "41\n",
            "42\n",
            "43\n",
            "44\n",
            "45\n",
            "46\n",
            "47\n",
            "48\n",
            "49\n",
            "50\n",
            "51\n",
            "52\n",
            "53\n",
            "54\n",
            "55\n",
            "56\n",
            "57\n",
            "58\n",
            "59\n",
            "60\n",
            "61\n",
            "62\n",
            "63\n",
            "64\n",
            "65\n",
            "66\n",
            "67\n",
            "68\n",
            "69\n",
            "70\n",
            "71\n",
            "72\n",
            "73\n",
            "74\n",
            "75\n",
            "76\n",
            "77\n",
            "78\n",
            "79\n",
            "80\n",
            "81\n",
            "82\n",
            "83\n",
            "84\n",
            "85\n",
            "86\n",
            "87\n",
            "88\n",
            "89\n",
            "90\n",
            "91\n",
            "92\n",
            "93\n",
            "94\n",
            "95\n",
            "96\n",
            "97\n",
            "98\n",
            "99\n",
            "100\n"
          ]
        }
      ]
    },
    {
      "cell_type": "code",
      "metadata": {
        "id": "3VIIS_1poZwI",
        "colab": {
          "base_uri": "https://localhost:8080/",
          "height": 35
        },
        "outputId": "eb8f2a40-b406-4b1f-d24a-071e0865c37e"
      },
      "source": [
        "def numb():\n",
        "  x,y = 1000, 100\n",
        "   \n",
        "  if(x<y):\n",
        "    return \"X is Less than Y\"\n",
        "\n",
        "  elif(x==y):\n",
        "    return \"X is equal to Y\"\n",
        "\n",
        "  else:\n",
        "    return \"X is greater than Y\"\n",
        "\n",
        "numb()"
      ],
      "execution_count": null,
      "outputs": [
        {
          "output_type": "execute_result",
          "data": {
            "application/vnd.google.colaboratory.intrinsic+json": {
              "type": "string"
            },
            "text/plain": [
              "'X is greater than Y'"
            ]
          },
          "metadata": {},
          "execution_count": 4
        }
      ]
    },
    {
      "cell_type": "code",
      "metadata": {
        "colab": {
          "base_uri": "https://localhost:8080/"
        },
        "id": "RAU-JvHGhgte",
        "outputId": "7e14f9fb-feea-4fe4-9031-3d2bb7097f10"
      },
      "source": [
        "class revrange:\n",
        "\n",
        "    def __init__(self, n):\n",
        "        self.n = n\n",
        "        self.i = n\n",
        "\n",
        "    def __iter__(self):\n",
        "        return self\n",
        "\n",
        "    def __next__(self):\n",
        "        if self.n >= 0:\n",
        "            if self.i == self.n:\n",
        "                self.n = self.n - 1\n",
        "                return self.i\n",
        "            else:\n",
        "                self.i = self.n\n",
        "                self.n = self.n - 1\n",
        "                return self.i\n",
        "        else:\n",
        "            raise StopIteration\n",
        "\n",
        "for temp in revrange(20):\n",
        "    print(temp)"
      ],
      "execution_count": null,
      "outputs": [
        {
          "output_type": "stream",
          "name": "stdout",
          "text": [
            "20\n",
            "19\n",
            "18\n",
            "17\n",
            "16\n",
            "15\n",
            "14\n",
            "13\n",
            "12\n",
            "11\n",
            "10\n",
            "9\n",
            "8\n",
            "7\n",
            "6\n",
            "5\n",
            "4\n",
            "3\n",
            "2\n",
            "1\n",
            "0\n"
          ]
        }
      ]
    },
    {
      "cell_type": "code",
      "metadata": {
        "id": "Yihr_KxCtVNp"
      },
      "source": [
        "class MyClass:\n",
        "    \"\"\"A custom class for nothing\"\"\"\n",
        "\n",
        "    def __init__(self, var):\n",
        "        self.var = var\n",
        "\n",
        "    def __del__(self):\n",
        "        del self.var\n",
        "\n",
        "    def __gt__(self, other):\n",
        "        return len(other) > len(self.var)\n",
        "\n",
        "    def __lt__(self, other):\n",
        "        return len(other) < len(self.var)\n",
        "\n",
        "    def __ge__(self, other):\n",
        "        return len(other) >= len(self.var)\n",
        "\n",
        "    def __le__(self, other):\n",
        "        return len(other) <= len(self.var)"
      ],
      "execution_count": null,
      "outputs": []
    },
    {
      "cell_type": "code",
      "metadata": {
        "id": "Eh9yW7r8YCF5"
      },
      "source": [
        "pip install "
      ],
      "execution_count": null,
      "outputs": []
    },
    {
      "cell_type": "code",
      "metadata": {
        "id": "PEa2SQe0ggnv",
        "colab": {
          "base_uri": "https://localhost:8080/"
        },
        "outputId": "bc6dc5fe-b32e-499d-ee41-1e48fee45ead"
      },
      "source": [
        "from datetime import date\n",
        "date.today()"
      ],
      "execution_count": null,
      "outputs": [
        {
          "output_type": "execute_result",
          "data": {
            "text/plain": [
              "datetime.date(2021, 10, 16)"
            ]
          },
          "metadata": {},
          "execution_count": 2
        }
      ]
    },
    {
      "cell_type": "code",
      "metadata": {
        "id": "xnx7tAmCX461"
      },
      "source": [
        ""
      ],
      "execution_count": null,
      "outputs": []
    }
  ]
}